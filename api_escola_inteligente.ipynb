{
 "cells": [
  {
   "cell_type": "markdown",
   "metadata": {},
   "source": [
    "# Análise de dados do Escola Inteligênte \n",
    "São Dados do INEP disponibilizados por meio de API\n",
    "\n",
    "link -> http://educacao.dadosabertosbr.com/api/escolas/buscaavancada?situacaoFuncionamento=1&energiaInexistente=on&aguaInexistente=on&esgotoInexistente=on&cozinha=on"
   ]
  },
  {
   "cell_type": "code",
   "execution_count": 14,
   "metadata": {},
   "outputs": [
    {
     "data": {
      "text/html": [
       "<div>\n",
       "<style scoped>\n",
       "    .dataframe tbody tr th:only-of-type {\n",
       "        vertical-align: middle;\n",
       "    }\n",
       "\n",
       "    .dataframe tbody tr th {\n",
       "        vertical-align: top;\n",
       "    }\n",
       "\n",
       "    .dataframe thead th {\n",
       "        text-align: right;\n",
       "    }\n",
       "</style>\n",
       "<table border=\"1\" class=\"dataframe\">\n",
       "  <thead>\n",
       "    <tr style=\"text-align: right;\">\n",
       "      <th></th>\n",
       "      <th>anoCenso</th>\n",
       "      <th>cidade</th>\n",
       "      <th>cod</th>\n",
       "      <th>codCidade</th>\n",
       "      <th>dependenciaAdministrativa</th>\n",
       "      <th>dependenciaAdministrativaTxt</th>\n",
       "      <th>enemMediaGeral</th>\n",
       "      <th>estado</th>\n",
       "      <th>idebAF</th>\n",
       "      <th>idebAI</th>\n",
       "      <th>nome</th>\n",
       "      <th>regiao</th>\n",
       "      <th>situacaoFuncionamento</th>\n",
       "      <th>situacaoFuncionamentoTxt</th>\n",
       "    </tr>\n",
       "  </thead>\n",
       "  <tbody>\n",
       "    <tr>\n",
       "      <th>0</th>\n",
       "      <td>2013</td>\n",
       "      <td>CANDIDO DE ABREU</td>\n",
       "      <td>41036026</td>\n",
       "      <td>4104402</td>\n",
       "      <td>3</td>\n",
       "      <td>Municipal</td>\n",
       "      <td>0.0</td>\n",
       "      <td>PR</td>\n",
       "      <td>0.0</td>\n",
       "      <td>0.0</td>\n",
       "      <td>BAIRRO DOS MENDES E R M EF</td>\n",
       "      <td>Sul</td>\n",
       "      <td>1</td>\n",
       "      <td>Em atividade</td>\n",
       "    </tr>\n",
       "    <tr>\n",
       "      <th>1</th>\n",
       "      <td>2013</td>\n",
       "      <td>MONTE ALEGRE</td>\n",
       "      <td>15008258</td>\n",
       "      <td>1504802</td>\n",
       "      <td>3</td>\n",
       "      <td>Municipal</td>\n",
       "      <td>0.0</td>\n",
       "      <td>PA</td>\n",
       "      <td>0.0</td>\n",
       "      <td>0.0</td>\n",
       "      <td>E M E F AGUA AZUL</td>\n",
       "      <td>Norte</td>\n",
       "      <td>1</td>\n",
       "      <td>Em atividade</td>\n",
       "    </tr>\n",
       "    <tr>\n",
       "      <th>2</th>\n",
       "      <td>2013</td>\n",
       "      <td>PLACAS</td>\n",
       "      <td>15534340</td>\n",
       "      <td>1505650</td>\n",
       "      <td>3</td>\n",
       "      <td>Municipal</td>\n",
       "      <td>0.0</td>\n",
       "      <td>PA</td>\n",
       "      <td>0.0</td>\n",
       "      <td>0.0</td>\n",
       "      <td>E M E F AGUA BOA</td>\n",
       "      <td>Norte</td>\n",
       "      <td>1</td>\n",
       "      <td>Em atividade</td>\n",
       "    </tr>\n",
       "    <tr>\n",
       "      <th>3</th>\n",
       "      <td>2013</td>\n",
       "      <td>NOVO REPARTIMENTO</td>\n",
       "      <td>15525821</td>\n",
       "      <td>1505064</td>\n",
       "      <td>3</td>\n",
       "      <td>Municipal</td>\n",
       "      <td>0.0</td>\n",
       "      <td>PA</td>\n",
       "      <td>0.0</td>\n",
       "      <td>0.0</td>\n",
       "      <td>E M E F AMAZONIA</td>\n",
       "      <td>Norte</td>\n",
       "      <td>1</td>\n",
       "      <td>Em atividade</td>\n",
       "    </tr>\n",
       "    <tr>\n",
       "      <th>4</th>\n",
       "      <td>2013</td>\n",
       "      <td>AFUA</td>\n",
       "      <td>15022790</td>\n",
       "      <td>1500305</td>\n",
       "      <td>3</td>\n",
       "      <td>Municipal</td>\n",
       "      <td>0.0</td>\n",
       "      <td>PA</td>\n",
       "      <td>0.0</td>\n",
       "      <td>0.0</td>\n",
       "      <td>E M E F AMELIA HOLANDA</td>\n",
       "      <td>Norte</td>\n",
       "      <td>1</td>\n",
       "      <td>Em atividade</td>\n",
       "    </tr>\n",
       "  </tbody>\n",
       "</table>\n",
       "</div>"
      ],
      "text/plain": [
       "   anoCenso             cidade       cod  codCidade  \\\n",
       "0      2013   CANDIDO DE ABREU  41036026    4104402   \n",
       "1      2013       MONTE ALEGRE  15008258    1504802   \n",
       "2      2013             PLACAS  15534340    1505650   \n",
       "3      2013  NOVO REPARTIMENTO  15525821    1505064   \n",
       "4      2013               AFUA  15022790    1500305   \n",
       "\n",
       "   dependenciaAdministrativa dependenciaAdministrativaTxt  enemMediaGeral  \\\n",
       "0                          3                    Municipal             0.0   \n",
       "1                          3                    Municipal             0.0   \n",
       "2                          3                    Municipal             0.0   \n",
       "3                          3                    Municipal             0.0   \n",
       "4                          3                    Municipal             0.0   \n",
       "\n",
       "  estado  idebAF  idebAI                        nome regiao  \\\n",
       "0     PR     0.0     0.0  BAIRRO DOS MENDES E R M EF    Sul   \n",
       "1     PA     0.0     0.0           E M E F AGUA AZUL  Norte   \n",
       "2     PA     0.0     0.0            E M E F AGUA BOA  Norte   \n",
       "3     PA     0.0     0.0            E M E F AMAZONIA  Norte   \n",
       "4     PA     0.0     0.0      E M E F AMELIA HOLANDA  Norte   \n",
       "\n",
       "   situacaoFuncionamento situacaoFuncionamentoTxt  \n",
       "0                      1             Em atividade  \n",
       "1                      1             Em atividade  \n",
       "2                      1             Em atividade  \n",
       "3                      1             Em atividade  \n",
       "4                      1             Em atividade  "
      ]
     },
     "execution_count": 14,
     "metadata": {},
     "output_type": "execute_result"
    }
   ],
   "source": [
    "# Importando bibliotecas\n",
    "import pandas as pd\n",
    "import requests\n",
    "\n",
    "%matplotlib inline\n",
    "\n",
    "# URL de acesso a API\n",
    "url = 'http://educacao.dadosabertosbr.com/api/escolas/buscaavancada?situacaoFuncionamento=1&energiaInexistente=on&aguaInexistente=on&esgotoInexistente=on&cozinha=on'\n",
    "\n",
    "# Requisitando os dados da API\n",
    "resposta = requests.get(url)\n",
    "\n",
    "# Criando o DataFrame\n",
    "df = pd.DataFrame(resposta.json()[1])\n",
    "\n",
    "# Primeiras 5 linhas\n",
    "df.head()"
   ]
  },
  {
   "cell_type": "code",
   "execution_count": 15,
   "metadata": {},
   "outputs": [
    {
     "data": {
      "text/plain": [
       "(100, 14)"
      ]
     },
     "execution_count": 15,
     "metadata": {},
     "output_type": "execute_result"
    }
   ],
   "source": [
    "# Qual o tamanho do DataFrame\n",
    "df.shape"
   ]
  },
  {
   "cell_type": "code",
   "execution_count": 10,
   "metadata": {},
   "outputs": [
    {
     "data": {
      "text/plain": [
       "PA    99\n",
       "PR     1\n",
       "Name: estado, dtype: int64"
      ]
     },
     "execution_count": 10,
     "metadata": {},
     "output_type": "execute_result"
    }
   ],
   "source": [
    " # Em quais Estados estão essas escolas?\n",
    "df['estado'].value_counts()"
   ]
  },
  {
   "cell_type": "code",
   "execution_count": 16,
   "metadata": {},
   "outputs": [
    {
     "data": {
      "text/plain": [
       "Municipal    100\n",
       "Name: dependenciaAdministrativaTxt, dtype: int64"
      ]
     },
     "execution_count": 16,
     "metadata": {},
     "output_type": "execute_result"
    }
   ],
   "source": [
    "# São todas escolas Municipais?\n",
    "df['dependenciaAdministrativaTxt'].value_counts()"
   ]
  },
  {
   "cell_type": "code",
   "execution_count": 17,
   "metadata": {},
   "outputs": [
    {
     "data": {
      "text/plain": [
       "<matplotlib.axes._subplots.AxesSubplot at 0x117b9ac18>"
      ]
     },
     "execution_count": 17,
     "metadata": {},
     "output_type": "execute_result"
    },
    {
     "data": {
      "image/png": "[encoded data removed]",
      "text/plain": [
       "<Figure size 432x288 with 1 Axes>"
      ]
     },
     "metadata": {
      "needs_background": "light"
     },
     "output_type": "display_data"
    }
   ],
   "source": [
    "df['dependenciaAdministrativaTxt'].value_counts().plot.barh()"
   ]
  },
  {
   "cell_type": "code",
   "execution_count": null,
   "metadata": {},
   "outputs": [],
   "source": []
  }
 ],
 "metadata": {
  "kernelspec": {
   "display_name": "Python 3",
   "language": "python",
   "name": "python3"
  },
  "language_info": {
   "codemirror_mode": {
    "name": "ipython",
    "version": 3
   },
   "file_extension": ".py",
   "mimetype": "text/x-python",
   "name": "python",
   "nbconvert_exporter": "python",
   "pygments_lexer": "ipython3",
   "version": "3.7.1"
  }
 },
 "nbformat": 4,
 "nbformat_minor": 2
}

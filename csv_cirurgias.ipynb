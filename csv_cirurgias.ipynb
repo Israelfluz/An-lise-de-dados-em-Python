{
 "cells": [
  {
   "cell_type": "code",
   "execution_count": 1,
   "metadata": {},
   "outputs": [],
   "source": [
    "# Importando bibliotecas\n",
    "import pandas as pd\n",
    "# informar ao matplotlib sobre os graficos inline\n",
    "%matplotlib inline"
   ]
  },
  {
   "cell_type": "code",
   "execution_count": 3,
   "metadata": {},
   "outputs": [
    {
     "data": {
      "text/html": [
       "<div>\n",
       "<style scoped>\n",
       "    .dataframe tbody tr th:only-of-type {\n",
       "        vertical-align: middle;\n",
       "    }\n",
       "\n",
       "    .dataframe tbody tr th {\n",
       "        vertical-align: top;\n",
       "    }\n",
       "\n",
       "    .dataframe thead th {\n",
       "        text-align: right;\n",
       "    }\n",
       "</style>\n",
       "<table border=\"1\" class=\"dataframe\">\n",
       "  <thead>\n",
       "    <tr style=\"text-align: right;\">\n",
       "      <th></th>\n",
       "      <th>Hospital</th>\n",
       "      <th>Municipio</th>\n",
       "      <th>Complexibiliade</th>\n",
       "      <th>Carater Atendimento</th>\n",
       "      <th>Sub Grupo Procedimento</th>\n",
       "      <th>Procedimento</th>\n",
       "    </tr>\n",
       "  </thead>\n",
       "  <tbody>\n",
       "    <tr>\n",
       "      <th>0</th>\n",
       "      <td>6876617 HOSPITAL DA CRIANCA DE BRASILIA JOSE A...</td>\n",
       "      <td>BRASILIA, DF, BR</td>\n",
       "      <td>Média complexidade</td>\n",
       "      <td>Eletivo</td>\n",
       "      <td>Sub Grupo: 15 - Outras cirurgias</td>\n",
       "      <td>TRATAMENTO C/ CIRURGIAS MULTIPLAS</td>\n",
       "    </tr>\n",
       "    <tr>\n",
       "      <th>1</th>\n",
       "      <td>0010456 HBDF HOSPITAL DE BASE DO DISTRITO FEDERAL</td>\n",
       "      <td>BRASILIA, DF, BR</td>\n",
       "      <td>Média complexidade</td>\n",
       "      <td>Urgência</td>\n",
       "      <td>Sub Grupo: 03 - Cirurgia do sistema nervoso ce...</td>\n",
       "      <td>DERIVACAO VENTRICULAR EXTERNAR-SUBGALEAL EXTERNA</td>\n",
       "    </tr>\n",
       "    <tr>\n",
       "      <th>2</th>\n",
       "      <td>0010456 HBDF HOSPITAL DE BASE DO DISTRITO FEDERAL</td>\n",
       "      <td>BRASILIA, DF, BR</td>\n",
       "      <td>Média complexidade</td>\n",
       "      <td>Urgência</td>\n",
       "      <td>Sub Grupo: 15 - Outras cirurgias</td>\n",
       "      <td>TRATAMENTO C/ CIRURGIAS MULTIPLAS</td>\n",
       "    </tr>\n",
       "  </tbody>\n",
       "</table>\n",
       "</div>"
      ],
      "text/plain": [
       "                                            Hospital          Municipio  \\\n",
       "0  6876617 HOSPITAL DA CRIANCA DE BRASILIA JOSE A...  BRASILIA, DF, BR    \n",
       "1  0010456 HBDF HOSPITAL DE BASE DO DISTRITO FEDERAL  BRASILIA, DF, BR    \n",
       "2  0010456 HBDF HOSPITAL DE BASE DO DISTRITO FEDERAL  BRASILIA, DF, BR    \n",
       "\n",
       "      Complexibiliade Carater Atendimento  \\\n",
       "0  Média complexidade             Eletivo   \n",
       "1  Média complexidade            Urgência   \n",
       "2  Média complexidade            Urgência   \n",
       "\n",
       "                              Sub Grupo Procedimento  \\\n",
       "0                   Sub Grupo: 15 - Outras cirurgias   \n",
       "1  Sub Grupo: 03 - Cirurgia do sistema nervoso ce...   \n",
       "2                   Sub Grupo: 15 - Outras cirurgias   \n",
       "\n",
       "                                       Procedimento  \n",
       "0                 TRATAMENTO C/ CIRURGIAS MULTIPLAS  \n",
       "1  DERIVACAO VENTRICULAR EXTERNAR-SUBGALEAL EXTERNA  \n",
       "2                 TRATAMENTO C/ CIRURGIAS MULTIPLAS  "
      ]
     },
     "execution_count": 3,
     "metadata": {},
     "output_type": "execute_result"
    }
   ],
   "source": [
    "# importação de apenas algumas colunas do arquivo:\n",
    "# 3 - Hospital, 6 - Municipio, 7 - Complexibilidade, 8 - Carater de atendimento, 12 - Sub grupo de atendimento,\n",
    "# 14 - Procedimento\n",
    "\n",
    "# Carregamentos do arquivo csv\n",
    "df = pd.read_csv('sih-janeiro-2017-cirurgias-eletiva-e-emergencia.csv', sep=';', encoding='cp1252', \n",
    "                 usecols=[3, 6, 7, 8, 12, 14])\n",
    "\n",
    "# Alterando o nome das colunas\n",
    "df.columns = ['Hospital', 'Municipio', 'Complexibiliade', 'Carater Atendimento', 'Sub Grupo Procedimento',\n",
    "             'Procedimento']\n",
    "\n",
    "# Exibir as primeiras linhas do DataFrame\n",
    "df.head(3)"
   ]
  },
  {
   "cell_type": "code",
   "execution_count": 5,
   "metadata": {},
   "outputs": [
    {
     "data": {
      "text/html": [
       "<div>\n",
       "<style scoped>\n",
       "    .dataframe tbody tr th:only-of-type {\n",
       "        vertical-align: middle;\n",
       "    }\n",
       "\n",
       "    .dataframe tbody tr th {\n",
       "        vertical-align: top;\n",
       "    }\n",
       "\n",
       "    .dataframe thead th {\n",
       "        text-align: right;\n",
       "    }\n",
       "</style>\n",
       "<table border=\"1\" class=\"dataframe\">\n",
       "  <thead>\n",
       "    <tr style=\"text-align: right;\">\n",
       "      <th></th>\n",
       "      <th>Hospital</th>\n",
       "      <th>Municipio</th>\n",
       "      <th>Complexibiliade</th>\n",
       "      <th>Carater Atendimento</th>\n",
       "      <th>Sub Grupo Procedimento</th>\n",
       "      <th>Procedimento</th>\n",
       "    </tr>\n",
       "  </thead>\n",
       "  <tbody>\n",
       "    <tr>\n",
       "      <th>count</th>\n",
       "      <td>4862</td>\n",
       "      <td>4862</td>\n",
       "      <td>4862</td>\n",
       "      <td>4862</td>\n",
       "      <td>4862</td>\n",
       "      <td>4862</td>\n",
       "    </tr>\n",
       "    <tr>\n",
       "      <th>unique</th>\n",
       "      <td>16</td>\n",
       "      <td>11</td>\n",
       "      <td>2</td>\n",
       "      <td>4</td>\n",
       "      <td>16</td>\n",
       "      <td>495</td>\n",
       "    </tr>\n",
       "    <tr>\n",
       "      <th>top</th>\n",
       "      <td>0010456 HBDF HOSPITAL DE BASE DO DISTRITO FEDERAL</td>\n",
       "      <td>BRASILIA, DF, BR</td>\n",
       "      <td>Média complexidade</td>\n",
       "      <td>Urgência</td>\n",
       "      <td>Sub Grupo: 11 - Cirurgia obstétrica</td>\n",
       "      <td>PARTO CESARIANO</td>\n",
       "    </tr>\n",
       "    <tr>\n",
       "      <th>freq</th>\n",
       "      <td>735</td>\n",
       "      <td>1923</td>\n",
       "      <td>4353</td>\n",
       "      <td>3794</td>\n",
       "      <td>1539</td>\n",
       "      <td>1060</td>\n",
       "    </tr>\n",
       "  </tbody>\n",
       "</table>\n",
       "</div>"
      ],
      "text/plain": [
       "                                                 Hospital          Municipio  \\\n",
       "count                                                4862               4862   \n",
       "unique                                                 16                 11   \n",
       "top     0010456 HBDF HOSPITAL DE BASE DO DISTRITO FEDERAL  BRASILIA, DF, BR    \n",
       "freq                                                  735               1923   \n",
       "\n",
       "           Complexibiliade Carater Atendimento  \\\n",
       "count                 4862                4862   \n",
       "unique                   2                   4   \n",
       "top     Média complexidade            Urgência   \n",
       "freq                  4353                3794   \n",
       "\n",
       "                     Sub Grupo Procedimento     Procedimento  \n",
       "count                                  4862             4862  \n",
       "unique                                   16              495  \n",
       "top     Sub Grupo: 11 - Cirurgia obstétrica  PARTO CESARIANO  \n",
       "freq                                   1539             1060  "
      ]
     },
     "execution_count": 5,
     "metadata": {},
     "output_type": "execute_result"
    }
   ],
   "source": [
    "# Descrição de colunas numéricas\n",
    "df.describe()"
   ]
  },
  {
   "cell_type": "code",
   "execution_count": 6,
   "metadata": {},
   "outputs": [
    {
     "data": {
      "text/plain": [
       "array(['6876617 HOSPITAL DA CRIANCA DE BRASILIA JOSE ALENCAR HCB',\n",
       "       '0010456 HBDF HOSPITAL DE BASE DO DISTRITO FEDERAL',\n",
       "       '0010499 HRT HOSPITAL REGIONAL DE TAGUATINGA', '0010545 HRBZ',\n",
       "       '0010480 HOSPITAL REGIONAL DE CEILANDIA',\n",
       "       '3276678 INSTITUTO DE CARDIOLOGIA DO DISTRITO FEDERAL',\n",
       "       '0010472 HRG', '0010510 HOSPITAL UNIVERSITARIO DE BRASILIA',\n",
       "       '0010529 HRPL',\n",
       "       '0010537 HOSPITAL MATERNO INFANTIL DE BRASILIA HMIB',\n",
       "       '3055450 CBV CENTRO BRASILEIRO DA VISAO',\n",
       "       '2672197 HRSAM HOSPITAL REGIONAL DE SAMAMBAIA', '0010502 HRS',\n",
       "       '5717515 HRSM', '2645157 HRPA', '0010464 HRAN'], dtype=object)"
      ]
     },
     "execution_count": 6,
     "metadata": {},
     "output_type": "execute_result"
    }
   ],
   "source": [
    "# Listando os hospitais presentes nos dados\n",
    "df['Hospital'].unique()"
   ]
  },
  {
   "cell_type": "code",
   "execution_count": 7,
   "metadata": {},
   "outputs": [
    {
     "data": {
      "text/plain": [
       "0010456 HBDF HOSPITAL DE BASE DO DISTRITO FEDERAL           735\n",
       "0010472 HRG                                                 555\n",
       "0010480 HOSPITAL REGIONAL DE CEILANDIA                      461\n",
       "0010464 HRAN                                                432\n",
       "0010499 HRT HOSPITAL REGIONAL DE TAGUATINGA                 373\n",
       "0010510 HOSPITAL UNIVERSITARIO DE BRASILIA                  350\n",
       "2645157 HRPA                                                327\n",
       "0010537 HOSPITAL MATERNO INFANTIL DE BRASILIA HMIB          298\n",
       "5717515 HRSM                                                281\n",
       "0010529 HRPL                                                256\n",
       "0010502 HRS                                                 225\n",
       "2672197 HRSAM HOSPITAL REGIONAL DE SAMAMBAIA                195\n",
       "3276678 INSTITUTO DE CARDIOLOGIA DO DISTRITO FEDERAL        191\n",
       "0010545 HRBZ                                                 75\n",
       "6876617 HOSPITAL DA CRIANCA DE BRASILIA JOSE ALENCAR HCB     74\n",
       "3055450 CBV CENTRO BRASILEIRO DA VISAO                       34\n",
       "Name: Hospital, dtype: int64"
      ]
     },
     "execution_count": 7,
     "metadata": {},
     "output_type": "execute_result"
    }
   ],
   "source": [
    "# Quantas cirurgias foram realizadas por cada Hospital\n",
    "df['Hospital'].value_counts()"
   ]
  },
  {
   "cell_type": "code",
   "execution_count": 9,
   "metadata": {},
   "outputs": [
    {
     "data": {
      "text/plain": [
       "Sub Grupo: 11 - Cirurgia obstétrica                                                   1539\n",
       "Sub Grupo: 07 - Cirurgia do aparelho digestivo, orgãos anexos e parede abdominal       893\n",
       "Sub Grupo: 08 - Cirurgia do sistema osteomuscular                                      651\n",
       "Sub Grupo: 09 - Cirurgia do aparelho geniturinário                                     474\n",
       "Sub Grupo: 06 - Cirurgia do aparelho circulatório                                      299\n",
       "Sub Grupo: 15 - Outras cirurgias                                                       223\n",
       "Sub Grupo: 04 - Cirurgia das vias aéreas superiores, da cabeça e do pescoço            145\n",
       "Sub Grupo: 03 - Cirurgia do sistema nervoso central e periférico                       141\n",
       "Sub Grupo: 16 - Cirurgia em oncologia                                                  110\n",
       "Sub Grupo: 05 - Cirurgia do aparelho da visão                                           98\n",
       "Sub Grupo: 12 - Cirurgia torácica                                                       92\n",
       "Sub Grupo: 01 - Pequenas cirurgias e cirurgias de pele, tecido subcutâneo e mucosa      77\n",
       "Sub Grupo: 10 - Cirurgia de mama                                                        68\n",
       "Sub Grupo: 13 - Cirurgia reparadora                                                     40\n",
       "Sub Grupo: 14 - Cirurgia oro-facial                                                      7\n",
       "Sub Grupo: 02 - Cirurgia de glândulas endócrinas                                         5\n",
       "Name: Sub Grupo Procedimento, dtype: int64"
      ]
     },
     "execution_count": 9,
     "metadata": {},
     "output_type": "execute_result"
    }
   ],
   "source": [
    "# Quantas cirurgias por SUB Grupo Procedimento\n",
    "df['Sub Grupo Procedimento'].value_counts()"
   ]
  },
  {
   "cell_type": "code",
   "execution_count": 12,
   "metadata": {},
   "outputs": [
    {
     "data": {
      "text/plain": [
       "<matplotlib.axes._subplots.AxesSubplot at 0x117808da0>"
      ]
     },
     "execution_count": 12,
     "metadata": {},
     "output_type": "execute_result"
    },
    {
     "data": {
      "image/png": "[encoded data removed]",
      "text/plain": [
       "<Figure size 432x288 with 1 Axes>"
      ]
     },
     "metadata": {
      "needs_background": "light"
     },
     "output_type": "display_data"
    }
   ],
   "source": [
    "# Exibir o grafico por Sub Grupo Procedimento\n",
    "df['Sub Grupo Procedimento'].value_counts().plot.bar()"
   ]
  },
  {
   "cell_type": "code",
   "execution_count": 13,
   "metadata": {},
   "outputs": [
    {
     "data": {
      "text/html": [
       "<div>\n",
       "<style scoped>\n",
       "    .dataframe tbody tr th:only-of-type {\n",
       "        vertical-align: middle;\n",
       "    }\n",
       "\n",
       "    .dataframe tbody tr th {\n",
       "        vertical-align: top;\n",
       "    }\n",
       "\n",
       "    .dataframe thead th {\n",
       "        text-align: right;\n",
       "    }\n",
       "</style>\n",
       "<table border=\"1\" class=\"dataframe\">\n",
       "  <thead>\n",
       "    <tr style=\"text-align: right;\">\n",
       "      <th></th>\n",
       "      <th>Hospital</th>\n",
       "      <th>Municipio</th>\n",
       "      <th>Complexibiliade</th>\n",
       "      <th>Carater Atendimento</th>\n",
       "      <th>Sub Grupo Procedimento</th>\n",
       "      <th>Procedimento</th>\n",
       "    </tr>\n",
       "  </thead>\n",
       "  <tbody>\n",
       "    <tr>\n",
       "      <th>1</th>\n",
       "      <td>0010456 HBDF HOSPITAL DE BASE DO DISTRITO FEDERAL</td>\n",
       "      <td>BRASILIA, DF, BR</td>\n",
       "      <td>Média complexidade</td>\n",
       "      <td>Urgência</td>\n",
       "      <td>Sub Grupo: 03 - Cirurgia do sistema nervoso ce...</td>\n",
       "      <td>DERIVACAO VENTRICULAR EXTERNAR-SUBGALEAL EXTERNA</td>\n",
       "    </tr>\n",
       "    <tr>\n",
       "      <th>2</th>\n",
       "      <td>0010456 HBDF HOSPITAL DE BASE DO DISTRITO FEDERAL</td>\n",
       "      <td>BRASILIA, DF, BR</td>\n",
       "      <td>Média complexidade</td>\n",
       "      <td>Urgência</td>\n",
       "      <td>Sub Grupo: 15 - Outras cirurgias</td>\n",
       "      <td>TRATAMENTO C/ CIRURGIAS MULTIPLAS</td>\n",
       "    </tr>\n",
       "  </tbody>\n",
       "</table>\n",
       "</div>"
      ],
      "text/plain": [
       "                                            Hospital          Municipio  \\\n",
       "1  0010456 HBDF HOSPITAL DE BASE DO DISTRITO FEDERAL  BRASILIA, DF, BR    \n",
       "2  0010456 HBDF HOSPITAL DE BASE DO DISTRITO FEDERAL  BRASILIA, DF, BR    \n",
       "\n",
       "      Complexibiliade Carater Atendimento  \\\n",
       "1  Média complexidade            Urgência   \n",
       "2  Média complexidade            Urgência   \n",
       "\n",
       "                              Sub Grupo Procedimento  \\\n",
       "1  Sub Grupo: 03 - Cirurgia do sistema nervoso ce...   \n",
       "2                   Sub Grupo: 15 - Outras cirurgias   \n",
       "\n",
       "                                       Procedimento  \n",
       "1  DERIVACAO VENTRICULAR EXTERNAR-SUBGALEAL EXTERNA  \n",
       "2                 TRATAMENTO C/ CIRURGIAS MULTIPLAS  "
      ]
     },
     "execution_count": 13,
     "metadata": {},
     "output_type": "execute_result"
    }
   ],
   "source": [
    "# Criando um sub conjunto dos dados originais\n",
    "df_hospbase = df[df['Hospital'] == '0010456 HBDF HOSPITAL DE BASE DO DISTRITO FEDERAL']\n",
    "\n",
    "# Linhas iniciais\n",
    "df_hospbase.head(2)"
   ]
  },
  {
   "cell_type": "code",
   "execution_count": 14,
   "metadata": {},
   "outputs": [
    {
     "data": {
      "text/html": [
       "<div>\n",
       "<style scoped>\n",
       "    .dataframe tbody tr th:only-of-type {\n",
       "        vertical-align: middle;\n",
       "    }\n",
       "\n",
       "    .dataframe tbody tr th {\n",
       "        vertical-align: top;\n",
       "    }\n",
       "\n",
       "    .dataframe thead th {\n",
       "        text-align: right;\n",
       "    }\n",
       "</style>\n",
       "<table border=\"1\" class=\"dataframe\">\n",
       "  <thead>\n",
       "    <tr style=\"text-align: right;\">\n",
       "      <th></th>\n",
       "      <th>Hospital</th>\n",
       "      <th>Municipio</th>\n",
       "      <th>Complexibiliade</th>\n",
       "      <th>Carater Atendimento</th>\n",
       "      <th>Sub Grupo Procedimento</th>\n",
       "      <th>Procedimento</th>\n",
       "    </tr>\n",
       "  </thead>\n",
       "  <tbody>\n",
       "    <tr>\n",
       "      <th>2370</th>\n",
       "      <td>0010456 HBDF HOSPITAL DE BASE DO DISTRITO FEDERAL</td>\n",
       "      <td>BRASILIA, DF, BR</td>\n",
       "      <td>Média complexidade</td>\n",
       "      <td>Eletivo</td>\n",
       "      <td>Sub Grupo: 03 - Cirurgia do sistema nervoso ce...</td>\n",
       "      <td>DERIVACAO VENTRICULAR PARA PERITONEO / ATRIO /...</td>\n",
       "    </tr>\n",
       "    <tr>\n",
       "      <th>2371</th>\n",
       "      <td>0010456 HBDF HOSPITAL DE BASE DO DISTRITO FEDERAL</td>\n",
       "      <td>BRASILIA, DF, BR</td>\n",
       "      <td>Alta complexidade</td>\n",
       "      <td>Eletivo</td>\n",
       "      <td>Sub Grupo: 16 - Cirurgia em oncologia</td>\n",
       "      <td>MASTECTOMIA RADICAL C/ LINFADENECTOMIA AXILAR ...</td>\n",
       "    </tr>\n",
       "    <tr>\n",
       "      <th>2372</th>\n",
       "      <td>0010456 HBDF HOSPITAL DE BASE DO DISTRITO FEDERAL</td>\n",
       "      <td>BRASILIA, DF, BR</td>\n",
       "      <td>Alta complexidade</td>\n",
       "      <td>Eletivo</td>\n",
       "      <td>Sub Grupo: 16 - Cirurgia em oncologia</td>\n",
       "      <td>SEGMENTECTOMIA/QUADRANTECTOMIA/SETORECTOMIA DE...</td>\n",
       "    </tr>\n",
       "    <tr>\n",
       "      <th>2373</th>\n",
       "      <td>0010456 HBDF HOSPITAL DE BASE DO DISTRITO FEDERAL</td>\n",
       "      <td>BRASILIA, DF, BR</td>\n",
       "      <td>Alta complexidade</td>\n",
       "      <td>Eletivo</td>\n",
       "      <td>Sub Grupo: 06 - Cirurgia do aparelho circulatório</td>\n",
       "      <td>ESTUDO ELETROFISIOLOGICO TERAPEUTICO II (ABLAC...</td>\n",
       "    </tr>\n",
       "  </tbody>\n",
       "</table>\n",
       "</div>"
      ],
      "text/plain": [
       "                                               Hospital          Municipio  \\\n",
       "2370  0010456 HBDF HOSPITAL DE BASE DO DISTRITO FEDERAL  BRASILIA, DF, BR    \n",
       "2371  0010456 HBDF HOSPITAL DE BASE DO DISTRITO FEDERAL  BRASILIA, DF, BR    \n",
       "2372  0010456 HBDF HOSPITAL DE BASE DO DISTRITO FEDERAL  BRASILIA, DF, BR    \n",
       "2373  0010456 HBDF HOSPITAL DE BASE DO DISTRITO FEDERAL  BRASILIA, DF, BR    \n",
       "\n",
       "         Complexibiliade Carater Atendimento  \\\n",
       "2370  Média complexidade             Eletivo   \n",
       "2371   Alta complexidade             Eletivo   \n",
       "2372   Alta complexidade             Eletivo   \n",
       "2373   Alta complexidade             Eletivo   \n",
       "\n",
       "                                 Sub Grupo Procedimento  \\\n",
       "2370  Sub Grupo: 03 - Cirurgia do sistema nervoso ce...   \n",
       "2371              Sub Grupo: 16 - Cirurgia em oncologia   \n",
       "2372              Sub Grupo: 16 - Cirurgia em oncologia   \n",
       "2373  Sub Grupo: 06 - Cirurgia do aparelho circulatório   \n",
       "\n",
       "                                           Procedimento  \n",
       "2370  DERIVACAO VENTRICULAR PARA PERITONEO / ATRIO /...  \n",
       "2371  MASTECTOMIA RADICAL C/ LINFADENECTOMIA AXILAR ...  \n",
       "2372  SEGMENTECTOMIA/QUADRANTECTOMIA/SETORECTOMIA DE...  \n",
       "2373  ESTUDO ELETROFISIOLOGICO TERAPEUTICO II (ABLAC...  "
      ]
     },
     "execution_count": 14,
     "metadata": {},
     "output_type": "execute_result"
    }
   ],
   "source": [
    "# Linhas finais\n",
    "df_hospbase.tail(4)"
   ]
  },
  {
   "cell_type": "code",
   "execution_count": 16,
   "metadata": {},
   "outputs": [
    {
     "data": {
      "text/html": [
       "<div>\n",
       "<style scoped>\n",
       "    .dataframe tbody tr th:only-of-type {\n",
       "        vertical-align: middle;\n",
       "    }\n",
       "\n",
       "    .dataframe tbody tr th {\n",
       "        vertical-align: top;\n",
       "    }\n",
       "\n",
       "    .dataframe thead th {\n",
       "        text-align: right;\n",
       "    }\n",
       "</style>\n",
       "<table border=\"1\" class=\"dataframe\">\n",
       "  <thead>\n",
       "    <tr style=\"text-align: right;\">\n",
       "      <th></th>\n",
       "      <th>Hospital</th>\n",
       "      <th>Municipio</th>\n",
       "      <th>Complexibiliade</th>\n",
       "      <th>Carater Atendimento</th>\n",
       "      <th>Sub Grupo Procedimento</th>\n",
       "      <th>Procedimento</th>\n",
       "    </tr>\n",
       "  </thead>\n",
       "  <tbody>\n",
       "    <tr>\n",
       "      <th>2371</th>\n",
       "      <td>0010456 HBDF HOSPITAL DE BASE DO DISTRITO FEDERAL</td>\n",
       "      <td>BRASILIA, DF, BR</td>\n",
       "      <td>Alta complexidade</td>\n",
       "      <td>Eletivo</td>\n",
       "      <td>Sub Grupo: 16 - Cirurgia em oncologia</td>\n",
       "      <td>MASTECTOMIA RADICAL C/ LINFADENECTOMIA AXILAR ...</td>\n",
       "    </tr>\n",
       "    <tr>\n",
       "      <th>1497</th>\n",
       "      <td>0010456 HBDF HOSPITAL DE BASE DO DISTRITO FEDERAL</td>\n",
       "      <td>BRASILIA, DF, BR</td>\n",
       "      <td>Alta complexidade</td>\n",
       "      <td>Urgência</td>\n",
       "      <td>Sub Grupo: 16 - Cirurgia em oncologia</td>\n",
       "      <td>SEGMENTECTOMIA/QUADRANTECTOMIA/SETORECTOMIA DE...</td>\n",
       "    </tr>\n",
       "    <tr>\n",
       "      <th>1974</th>\n",
       "      <td>0010456 HBDF HOSPITAL DE BASE DO DISTRITO FEDERAL</td>\n",
       "      <td>BRASILIA, DF, BR</td>\n",
       "      <td>Média complexidade</td>\n",
       "      <td>Eletivo</td>\n",
       "      <td>Sub Grupo: 06 - Cirurgia do aparelho circulatório</td>\n",
       "      <td>TRATAMENTO CIRURGICO DE VARIZES (UNILATERAL)</td>\n",
       "    </tr>\n",
       "    <tr>\n",
       "      <th>232</th>\n",
       "      <td>0010456 HBDF HOSPITAL DE BASE DO DISTRITO FEDERAL</td>\n",
       "      <td>BRASILIA, DF, BR</td>\n",
       "      <td>Média complexidade</td>\n",
       "      <td>Urgência</td>\n",
       "      <td>Sub Grupo: 08 - Cirurgia do sistema osteomuscular</td>\n",
       "      <td>AMPUTACAO / DESARTICULACAO DE MEMBROS INFERIORES</td>\n",
       "    </tr>\n",
       "    <tr>\n",
       "      <th>1783</th>\n",
       "      <td>0010456 HBDF HOSPITAL DE BASE DO DISTRITO FEDERAL</td>\n",
       "      <td>BRASILIA, DF, BR</td>\n",
       "      <td>Média complexidade</td>\n",
       "      <td>Eletivo</td>\n",
       "      <td>Sub Grupo: 09 - Cirurgia do aparelho geniturin...</td>\n",
       "      <td>NEFROSTOMIA C/ OU S/ DRENAGEM</td>\n",
       "    </tr>\n",
       "  </tbody>\n",
       "</table>\n",
       "</div>"
      ],
      "text/plain": [
       "                                               Hospital          Municipio  \\\n",
       "2371  0010456 HBDF HOSPITAL DE BASE DO DISTRITO FEDERAL  BRASILIA, DF, BR    \n",
       "1497  0010456 HBDF HOSPITAL DE BASE DO DISTRITO FEDERAL  BRASILIA, DF, BR    \n",
       "1974  0010456 HBDF HOSPITAL DE BASE DO DISTRITO FEDERAL  BRASILIA, DF, BR    \n",
       "232   0010456 HBDF HOSPITAL DE BASE DO DISTRITO FEDERAL  BRASILIA, DF, BR    \n",
       "1783  0010456 HBDF HOSPITAL DE BASE DO DISTRITO FEDERAL  BRASILIA, DF, BR    \n",
       "\n",
       "         Complexibiliade Carater Atendimento  \\\n",
       "2371   Alta complexidade             Eletivo   \n",
       "1497   Alta complexidade            Urgência   \n",
       "1974  Média complexidade             Eletivo   \n",
       "232   Média complexidade            Urgência   \n",
       "1783  Média complexidade             Eletivo   \n",
       "\n",
       "                                 Sub Grupo Procedimento  \\\n",
       "2371              Sub Grupo: 16 - Cirurgia em oncologia   \n",
       "1497              Sub Grupo: 16 - Cirurgia em oncologia   \n",
       "1974  Sub Grupo: 06 - Cirurgia do aparelho circulatório   \n",
       "232   Sub Grupo: 08 - Cirurgia do sistema osteomuscular   \n",
       "1783  Sub Grupo: 09 - Cirurgia do aparelho geniturin...   \n",
       "\n",
       "                                           Procedimento  \n",
       "2371  MASTECTOMIA RADICAL C/ LINFADENECTOMIA AXILAR ...  \n",
       "1497  SEGMENTECTOMIA/QUADRANTECTOMIA/SETORECTOMIA DE...  \n",
       "1974       TRATAMENTO CIRURGICO DE VARIZES (UNILATERAL)  \n",
       "232    AMPUTACAO / DESARTICULACAO DE MEMBROS INFERIORES  \n",
       "1783                      NEFROSTOMIA C/ OU S/ DRENAGEM  "
      ]
     },
     "execution_count": 16,
     "metadata": {},
     "output_type": "execute_result"
    }
   ],
   "source": [
    "# Listar listas aleatórias do DataFrame\n",
    "df_hospbase.sample(5)"
   ]
  },
  {
   "cell_type": "code",
   "execution_count": 19,
   "metadata": {},
   "outputs": [
    {
     "data": {
      "text/plain": [
       "TRATAMENTO C/ CIRURGIAS MULTIPLAS                                                                 47\n",
       "TRAQUEOSTOMIA                                                                                     28\n",
       "DERIVACAO VENTRICULAR PARA PERITONEO / ATRIO / PLEURA / RAQUE                                     26\n",
       "TORACOSTOMIA COM DRENAGEM PLEURAL FECHADA                                                         23\n",
       "IMPLANTE DE MARCAPASSO DE CAMARA DUPLA TRANSVENOSO                                                21\n",
       "TRATAMENTO CIRURGICO DE HEMATOMA SUBDURAL CRONICO                                                 18\n",
       "AMPUTACAO / DESARTICULACAO DE MEMBROS INFERIORES                                                  17\n",
       "TROCA DE GERADOR DE MARCAPASSO DE CAMARA DUPLA                                                    14\n",
       "FACOEMULSIFICACAO C/ IMPLANTE DE LENTE INTRA-OCULAR DOBRAVEL                                      12\n",
       "ANGIOPLASTIA CORONARIANA C/ IMPLANTE DE DOIS STENTS                                               11\n",
       "MASTECTOMIA RADICAL C/ LINFADENECTOMIA AXILAR EM ONCOLOGIA                                        10\n",
       "ANGIOPLASTIA CORONARIANA C/ IMPLANTE DE STENT                                                      9\n",
       "DRENAGEM DE ABSCESSO PERIAMIGDALIANO                                                               9\n",
       "OSTEOSSÍNTESE DA FRATURA COMPLEXA DA MANDÍBULA                                                     9\n",
       "MICROCIRURGIA P/ARA ANEURISMA DA CIRCULAÇÃO CEREBRAL ANTERIOR MENOR QUE 1,5 CM                     9\n",
       "SEGMENTECTOMIA/QUADRANTECTOMIA/SETORECTOMIA DE MAMA EM ONCOLOGIA                                   9\n",
       "SEPTOPLASTIA  PARA CORREÇÃO DE DESVIO                                                              9\n",
       "REDUCAO INCRUENTA DE FRATURA / LUXACAO / FRATURA-LUXACAO DO TORNOZELO                              8\n",
       "CRANIOTOMIA DESCOMPRESSIVA                                                                         8\n",
       "DERIVACAO VENTRICULAR EXTERNAR-SUBGALEAL EXTERNA                                                   8\n",
       "SUTURA DE ESCLERA                                                                                  8\n",
       "SETORECTOMIA / QUADRANTECTOMIA                                                                     8\n",
       "TRATAMENTO CIRURGICO DE HEMATOMA SUBDURAL AGUDO                                                    7\n",
       "AMPUTAÇÃO / DESARTICULAÇÃO DE DEDO                                                                 7\n",
       "EXERESE DE CALAZIO E OUTRAS PEQUENAS LESOES DA PALPEBRA E SUPERCILIOS                              7\n",
       "AMPUTACAO / DESARTICULACAO DE PE E TARSO                                                           7\n",
       "OSTEOSSÍNTESE DE FRATURA SIMPLES DE MANDÍBULA                                                      7\n",
       "EMBOLECTOMIA ARTERIAL                                                                              7\n",
       "TRATAMENTO CIRURGICO DE HEMATOMA EXTRADURAL                                                        7\n",
       "TRATAMENTO CIRÚRGICO DE FRATURA DA DIÁFISE DO FÊMUR                                                6\n",
       "                                                                                                  ..\n",
       "EMBOLIZAÇÃO DE FISTULA ARTERIO-VENOSA DA CABEÇA E PESCOÇO                                          1\n",
       "TRATAMENTO CIRÚRGICO DE FRATURA DIAFISARIA DE AMBOS OS OSSOS DO ANTEBRAÇO (C/ SINTESE)             1\n",
       "REDUÇÃO INCRUENTA DE LUXAÇÃO / FRATURA-LUXAÇÃO DO COTOVELO                                         1\n",
       "GASTROENTEROANASTOMOSE                                                                             1\n",
       "TRATAMENTO CIRURGICO NAO ESTETICO DA ORELHA                                                        1\n",
       "NEFRECTOMIA PARCIAL                                                                                1\n",
       "TIMPANOPLASTIA (UNI / BILATERAL)                                                                   1\n",
       "NEFRECTOMIA TOTAL EM ONCOLOGIA                                                                     1\n",
       "PONTE FEMORO-FEMURAL CRUZADA                                                                       1\n",
       "TROMBECTOMIA DO SISTEMA VENOSO                                                                     1\n",
       "COLECISTECTOMIA VIDEOLAPAROSCOPICA                                                                 1\n",
       "RESSECÇÃO DE TUMOR RAQUIMEDULAR EXTRADURAL                                                         1\n",
       "ESTUDO ELETROFISIOLOGICO TERAPEUTICO II (ABLACAO DE VIAS ANOMALAS ESQUERDAS)                       1\n",
       "ARTROPLASTIA TOTAL PRIMARIA DO QUADRIL NÃO CIMENTADA / HÍBRIDA                                     1\n",
       "TRATAMENTO CIRÚRGICO DE FRATURA / LESÃO FISARIA DA EXTREMIDADE PROXIMAL DO UMERO                   1\n",
       "ARITENOIDECTOMIA COM LARINGOFISSURA                                                                1\n",
       "TRATAMENTO CIRÚRGICO DE PSEUDARTROSE / RETARDO DE CONSOLIDAÇÃO/ PERDA ÓSSEA DA METÁFISE TIBIAL     1\n",
       "CORRECAO CIRURGICA DE ENTROPIO E ECTROPIO                                                          1\n",
       "HERNIORRAFIA INGUINAL VIDEOLAPAROSCOPICA                                                           1\n",
       "REDUÇÃO INCRUENTA DE LUXAÇÃO COXOFEMORAL TRAUMÁTICA / PÓS-ARTROPLASTIA                             1\n",
       "CRANIOPLASTIA                                                                                      1\n",
       "COLOSTOMIA                                                                                         1\n",
       "TRATAMENTO CIRÚRGICO DE FRATURA DO PLANALTO TIBIAL                                                 1\n",
       "GASTROSTOMIA                                                                                       1\n",
       "RECONSTRUCAO DE TENDAO PATELAR / TENDAO QUADRICIPITAL                                              1\n",
       "EMBOLIZAÇÃO DE ANEURISMA CEREBRAL MENOR DO QUE 1,5 CM COM COLO LARGO                               1\n",
       "DRENAGEM LIQUÓRICA LOMBAR EXTERNA                                                                  1\n",
       "REPARO DE ROTURA DO MANGUITO ROTADOR (INCLUI PROCEDIMENTOS DESCOMPRESSIVOS)                        1\n",
       "TRATAMENTO CIRÚRGICO DE LUXAÇÃO / FRATURA-LUXAÇÃO AO NÍVEL DO JOELHO                               1\n",
       "OSTEOSSÍNTESE DE FRATURA BILATERAL DO CÔNDILO MANDIBULAR                                           1\n",
       "Name: Procedimento, Length: 242, dtype: int64"
      ]
     },
     "execution_count": 19,
     "metadata": {},
     "output_type": "execute_result"
    }
   ],
   "source": [
    "# Quantidade de procedimentos realizado no Hospital de Base\n",
    "df_hospbase['Procedimento'].value_counts()"
   ]
  },
  {
   "cell_type": "code",
   "execution_count": 22,
   "metadata": {},
   "outputs": [
    {
     "data": {
      "text/plain": [
       "Hospital                  33\n",
       "Municipio                 33\n",
       "Complexibiliade           33\n",
       "Carater Atendimento       33\n",
       "Sub Grupo Procedimento    33\n",
       "Procedimento              33\n",
       "dtype: int64"
      ]
     },
     "execution_count": 22,
     "metadata": {},
     "output_type": "execute_result"
    }
   ],
   "source": [
    "# Subdividindo o DataFrame com base em pedaços de palavras\n",
    "df_hospbase[df_hospbase['Procedimento'].str.contains('AMPUTA')].count()"
   ]
  },
  {
   "cell_type": "code",
   "execution_count": 25,
   "metadata": {},
   "outputs": [],
   "source": [
    "# Dividir o DataFrame original apenas pelo procedimento de parto cesariano\n",
    "df_parto_cesariano = df[df['Procedimento'] == 'PARTO CESARIANO']"
   ]
  },
  {
   "cell_type": "code",
   "execution_count": 26,
   "metadata": {},
   "outputs": [
    {
     "data": {
      "text/html": [
       "<div>\n",
       "<style scoped>\n",
       "    .dataframe tbody tr th:only-of-type {\n",
       "        vertical-align: middle;\n",
       "    }\n",
       "\n",
       "    .dataframe tbody tr th {\n",
       "        vertical-align: top;\n",
       "    }\n",
       "\n",
       "    .dataframe thead th {\n",
       "        text-align: right;\n",
       "    }\n",
       "</style>\n",
       "<table border=\"1\" class=\"dataframe\">\n",
       "  <thead>\n",
       "    <tr style=\"text-align: right;\">\n",
       "      <th></th>\n",
       "      <th>Hospital</th>\n",
       "      <th>Municipio</th>\n",
       "      <th>Complexibiliade</th>\n",
       "      <th>Carater Atendimento</th>\n",
       "      <th>Sub Grupo Procedimento</th>\n",
       "      <th>Procedimento</th>\n",
       "    </tr>\n",
       "  </thead>\n",
       "  <tbody>\n",
       "    <tr>\n",
       "      <th>130</th>\n",
       "      <td>0010545 HRBZ</td>\n",
       "      <td>BRAZLANDIA, DF, BR</td>\n",
       "      <td>Média complexidade</td>\n",
       "      <td>Urgência</td>\n",
       "      <td>Sub Grupo: 11 - Cirurgia obstétrica</td>\n",
       "      <td>PARTO CESARIANO</td>\n",
       "    </tr>\n",
       "    <tr>\n",
       "      <th>131</th>\n",
       "      <td>0010545 HRBZ</td>\n",
       "      <td>BRAZLANDIA, DF, BR</td>\n",
       "      <td>Média complexidade</td>\n",
       "      <td>Urgência</td>\n",
       "      <td>Sub Grupo: 11 - Cirurgia obstétrica</td>\n",
       "      <td>PARTO CESARIANO</td>\n",
       "    </tr>\n",
       "    <tr>\n",
       "      <th>132</th>\n",
       "      <td>0010545 HRBZ</td>\n",
       "      <td>BRAZLANDIA, DF, BR</td>\n",
       "      <td>Média complexidade</td>\n",
       "      <td>Urgência</td>\n",
       "      <td>Sub Grupo: 11 - Cirurgia obstétrica</td>\n",
       "      <td>PARTO CESARIANO</td>\n",
       "    </tr>\n",
       "    <tr>\n",
       "      <th>133</th>\n",
       "      <td>0010545 HRBZ</td>\n",
       "      <td>BRAZLANDIA, DF, BR</td>\n",
       "      <td>Média complexidade</td>\n",
       "      <td>Urgência</td>\n",
       "      <td>Sub Grupo: 11 - Cirurgia obstétrica</td>\n",
       "      <td>PARTO CESARIANO</td>\n",
       "    </tr>\n",
       "    <tr>\n",
       "      <th>141</th>\n",
       "      <td>0010545 HRBZ</td>\n",
       "      <td>BRAZLANDIA, DF, BR</td>\n",
       "      <td>Média complexidade</td>\n",
       "      <td>Urgência</td>\n",
       "      <td>Sub Grupo: 11 - Cirurgia obstétrica</td>\n",
       "      <td>PARTO CESARIANO</td>\n",
       "    </tr>\n",
       "  </tbody>\n",
       "</table>\n",
       "</div>"
      ],
      "text/plain": [
       "         Hospital            Municipio     Complexibiliade  \\\n",
       "130  0010545 HRBZ  BRAZLANDIA, DF, BR   Média complexidade   \n",
       "131  0010545 HRBZ  BRAZLANDIA, DF, BR   Média complexidade   \n",
       "132  0010545 HRBZ  BRAZLANDIA, DF, BR   Média complexidade   \n",
       "133  0010545 HRBZ  BRAZLANDIA, DF, BR   Média complexidade   \n",
       "141  0010545 HRBZ  BRAZLANDIA, DF, BR   Média complexidade   \n",
       "\n",
       "    Carater Atendimento               Sub Grupo Procedimento     Procedimento  \n",
       "130            Urgência  Sub Grupo: 11 - Cirurgia obstétrica  PARTO CESARIANO  \n",
       "131            Urgência  Sub Grupo: 11 - Cirurgia obstétrica  PARTO CESARIANO  \n",
       "132            Urgência  Sub Grupo: 11 - Cirurgia obstétrica  PARTO CESARIANO  \n",
       "133            Urgência  Sub Grupo: 11 - Cirurgia obstétrica  PARTO CESARIANO  \n",
       "141            Urgência  Sub Grupo: 11 - Cirurgia obstétrica  PARTO CESARIANO  "
      ]
     },
     "execution_count": 26,
     "metadata": {},
     "output_type": "execute_result"
    }
   ],
   "source": [
    "# lista das primeiras linhas \n",
    "df_parto_cesariano.head()"
   ]
  },
  {
   "cell_type": "code",
   "execution_count": 27,
   "metadata": {},
   "outputs": [
    {
     "data": {
      "text/plain": [
       "0010480 HOSPITAL REGIONAL DE CEILANDIA                165\n",
       "2645157 HRPA                                          123\n",
       "5717515 HRSM                                          110\n",
       "0010537 HOSPITAL MATERNO INFANTIL DE BRASILIA HMIB     93\n",
       "2672197 HRSAM HOSPITAL REGIONAL DE SAMAMBAIA           92\n",
       "0010502 HRS                                            92\n",
       "0010464 HRAN                                           88\n",
       "0010529 HRPL                                           79\n",
       "0010499 HRT HOSPITAL REGIONAL DE TAGUATINGA            74\n",
       "0010510 HOSPITAL UNIVERSITARIO DE BRASILIA             63\n",
       "0010472 HRG                                            47\n",
       "0010545 HRBZ                                           34\n",
       "Name: Hospital, dtype: int64"
      ]
     },
     "execution_count": 27,
     "metadata": {},
     "output_type": "execute_result"
    }
   ],
   "source": [
    "# Verificando a quantidade de partos casarianos por hospital\n",
    "df_parto_cesariano['Hospital'].value_counts()"
   ]
  },
  {
   "cell_type": "code",
   "execution_count": 28,
   "metadata": {},
   "outputs": [
    {
     "data": {
      "text/plain": [
       "Urgência    1041\n",
       "Eletivo       19\n",
       "Name: Carater Atendimento, dtype: int64"
      ]
     },
     "execution_count": 28,
     "metadata": {},
     "output_type": "execute_result"
    }
   ],
   "source": [
    "# Verificando a quantidade de partos por Carater Atendimento\n",
    "df_parto_cesariano['Carater Atendimento'].value_counts()"
   ]
  },
  {
   "cell_type": "code",
   "execution_count": 31,
   "metadata": {},
   "outputs": [
    {
     "data": {
      "text/plain": [
       "<matplotlib.axes._subplots.AxesSubplot at 0x1181d8400>"
      ]
     },
     "execution_count": 31,
     "metadata": {},
     "output_type": "execute_result"
    },
    {
     "data": {
      "image/png": "[encoded data removed]",
      "text/plain": [
       "<Figure size 432x288 with 1 Axes>"
      ]
     },
     "metadata": {
      "needs_background": "light"
     },
     "output_type": "display_data"
    }
   ],
   "source": [
    "# Plotando grafico de barras na horizonta\n",
    "df_parto_cesariano['Hospital'].value_counts().plot.barh()"
   ]
  },
  {
   "cell_type": "code",
   "execution_count": 34,
   "metadata": {},
   "outputs": [
    {
     "data": {
      "text/plain": [
       "<matplotlib.axes._subplots.AxesSubplot at 0x118e9bb70>"
      ]
     },
     "execution_count": 34,
     "metadata": {},
     "output_type": "execute_result"
    },
    {
     "data": {
      "image/png": "[encoded data removed]",
      "text/plain": [
       "<Figure size 432x288 with 1 Axes>"
      ]
     },
     "metadata": {
      "needs_background": "light"
     },
     "output_type": "display_data"
    }
   ],
   "source": [
    "# Melhorando o grafico de barra horizontal\n",
    "# Invertendo a ordem & colocar título\n",
    "df_parto_cesariano['Hospital'].value_counts(ascending=True).plot.barh(title='Qantidade de Partos Cesarianos por Hospital')"
   ]
  },
  {
   "cell_type": "code",
   "execution_count": null,
   "metadata": {},
   "outputs": [],
   "source": []
  }
 ],
 "metadata": {
  "kernelspec": {
   "display_name": "Python 3",
   "language": "python",
   "name": "python3"
  },
  "language_info": {
   "codemirror_mode": {
    "name": "ipython",
    "version": 3
   },
   "file_extension": ".py",
   "mimetype": "text/x-python",
   "name": "python",
   "nbconvert_exporter": "python",
   "pygments_lexer": "ipython3",
   "version": "3.7.1"
  }
 },
 "nbformat": 4,
 "nbformat_minor": 2
}
